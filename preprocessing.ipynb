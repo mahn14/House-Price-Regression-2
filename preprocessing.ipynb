{
 "cells": [
  {
   "cell_type": "markdown",
   "metadata": {},
   "source": [
    "# Preprocessing"
   ]
  },
  {
   "cell_type": "code",
   "execution_count": 1,
   "metadata": {},
   "outputs": [],
   "source": [
    "import os\n",
    "import pandas as pd\n",
    "import numpy as np\n",
    "import seaborn as sns\n",
    "import matplotlib.pyplot as plt\n",
    "\n",
    "import warnings\n",
    "warnings.filterwarnings('ignore')\n",
    "\n",
    "PATH = 'Data/Raw/'"
   ]
  },
  {
   "cell_type": "markdown",
   "metadata": {},
   "source": [
    "## Features and Outliers"
   ]
  },
  {
   "cell_type": "code",
   "execution_count": 2,
   "metadata": {
    "code_folding": []
   },
   "outputs": [],
   "source": [
    "def read_raw(filepath):\n",
    "    ''' Return Pandas DataFrames of raw training and testing sets  \n",
    "    '''\n",
    "    \n",
    "    # Read raw csv\n",
    "    train = pd.read_csv(filepath + 'train.csv').drop('Id', axis=1).reset_index(drop=True)\n",
    "    test = pd.read_csv(filepath + 'test.csv').drop('Id', axis=1).reset_index(drop=True)\n",
    "    return(train, test)"
   ]
  },
  {
   "cell_type": "code",
   "execution_count": 3,
   "metadata": {
    "code_folding": [
     1
    ]
   },
   "outputs": [],
   "source": [
    "def use_cols(df, frac=0.1):\n",
    "    ''' Returns columns to use for modeling and exploration\n",
    "        Omits features missing more than 'frac' of their observations\n",
    "    '''\n",
    "    \n",
    "    # Remove missing features\n",
    "    missing = df.isnull().sum() / df.shape[0]\n",
    "    cols = list(missing[missing <= frac].index)\n",
    "    return(cols)"
   ]
  },
  {
   "cell_type": "code",
   "execution_count": 4,
   "metadata": {
    "code_folding": []
   },
   "outputs": [],
   "source": [
    "def drop_outliers(df):\n",
    "    ''' Returns Pandas DataFrame without 2 possible outliers\n",
    "    '''\n",
    "    train = pd.read_csv('Data/Raw/train.csv')\n",
    "    outliers = np.sort(train['SalePrice'])[-2:]\n",
    "    new_train = train[train['SalePrice'] < np.min(outliers)].reset_index(drop=True)\n",
    "    \n",
    "    return(new_train)"
   ]
  },
  {
   "cell_type": "code",
   "execution_count": 5,
   "metadata": {
    "code_folding": []
   },
   "outputs": [],
   "source": [
    "def drop_missing(df, frac=0.1):\n",
    "    ''' Returns DataFrame after dropping features with more than 'frac' missing values\n",
    "    '''\n",
    "    cols = use_cols(df, frac=frac)\n",
    "    df = df[cols]\n",
    "    return(df)"
   ]
  },
  {
   "cell_type": "code",
   "execution_count": 6,
   "metadata": {
    "code_folding": [
     1
    ]
   },
   "outputs": [],
   "source": [
    "def drop_data(PATH, frac=0, outliers=False):\n",
    "    ''' Return :: train, test\n",
    "        Drop outliers and features with missing observations\n",
    "    '''\n",
    "    \n",
    "    # Read Data\n",
    "    train, test = read_raw(PATH)\n",
    "    \n",
    "    # Drop Outliers\n",
    "    if outliers == True:\n",
    "        train = drop_outliers(train)\n",
    "    df_full = pd.concat([train.drop('SalePrice', axis=1, inplace=False), test], axis=0)\n",
    "    \n",
    "    # Drop Missing Features\n",
    "    df = drop_missing(df_full, frac=frac)\n",
    "    \n",
    "    # Split Data\n",
    "    length = train.shape[0]\n",
    "    df_train = df.iloc[:length, :]\n",
    "    df_train['SalePrice'] = train['SalePrice']\n",
    "    \n",
    "    df_test = df.iloc[length:, :]\n",
    "    \n",
    "    return(df_train, df_test)"
   ]
  },
  {
   "cell_type": "markdown",
   "metadata": {},
   "source": [
    "## Missing Values"
   ]
  },
  {
   "cell_type": "markdown",
   "metadata": {},
   "source": [
    "__Used for Analysis__"
   ]
  },
  {
   "cell_type": "code",
   "execution_count": 7,
   "metadata": {
    "code_folding": []
   },
   "outputs": [],
   "source": [
    "def get_missing_features(df):\n",
    "    missing = df.isnull().sum()\n",
    "    features = missing[missing > 0]\n",
    "    return(features)"
   ]
  },
  {
   "cell_type": "code",
   "execution_count": 8,
   "metadata": {
    "code_folding": []
   },
   "outputs": [],
   "source": [
    "def get_missing_dataframe(df):\n",
    "    features = get_missing_features(df)\n",
    "    df_missing = pd.DataFrame(features, columns=['Missing']).sort_values('Missing')\n",
    "    return(df_missing)"
   ]
  },
  {
   "cell_type": "markdown",
   "metadata": {},
   "source": [
    "__Impute Functions__"
   ]
  },
  {
   "cell_type": "code",
   "execution_count": 9,
   "metadata": {
    "code_folding": [
     0
    ]
   },
   "outputs": [],
   "source": [
    "def impute_garage(df):\n",
    "    # Single missing values\n",
    "    df['GarageCars'].fillna(0, inplace=True)\n",
    "    df['GarageArea'].fillna(0, inplace=True)\n",
    "    \n",
    "    # Many missing values\n",
    "    features_garage2 = ['GarageType', 'GarageCond', 'GarageYrBlt', 'GarageFinish', 'GarageQual']\n",
    "    df[features_garage2] = df[features_garage2].fillna('None')\n",
    "    \n",
    "    return(df)"
   ]
  },
  {
   "cell_type": "code",
   "execution_count": 10,
   "metadata": {
    "code_folding": []
   },
   "outputs": [],
   "source": [
    "def impute_bsmt(df):\n",
    "    features_num = ['BsmtFinSF1', 'TotalBsmtSF', 'BsmtUnfSF', 'BsmtFinSF2', 'BsmtFullBath', 'BsmtHalfBath']\n",
    "    df[features_num] = df[features_num].fillna(0)\n",
    "    \n",
    "    features_cat = ['BsmtFinType1', 'BsmtFinType2', 'BsmtQual', 'BsmtExposure', 'BsmtCond']\n",
    "    df[features_cat] = df[features_cat].fillna('None')\n",
    "    return(df)"
   ]
  },
  {
   "cell_type": "code",
   "execution_count": 11,
   "metadata": {
    "code_folding": []
   },
   "outputs": [],
   "source": [
    "def impute_others(train, test):\n",
    "    # Replace with 0\n",
    "    train['MasVnrArea'].fillna(0, inplace=True)\n",
    "    test['MasVnrArea'].fillna(0, inplace=True)\n",
    "    \n",
    "    missing = ['Exterior1st', 'Exterior2nd','Electrical', 'KitchenQual', 'SaleType', 'Utilities', \n",
    "               'Functional', 'MSZoning', 'MasVnrType']\n",
    "    for m in missing:\n",
    "        train[m].fillna(train[m].mode, inplace=True)\n",
    "        test[m].fillna(train[m].mode, inplace=True)\n",
    "    return(train, test)"
   ]
  },
  {
   "cell_type": "code",
   "execution_count": 12,
   "metadata": {
    "code_folding": []
   },
   "outputs": [],
   "source": [
    "def impute_df(train, test):\n",
    "    # train and test imputes garage, basement the same\n",
    "    train = impute_garage(train)\n",
    "    train = impute_bsmt(train)\n",
    "    \n",
    "    test = impute_garage(test)\n",
    "    test = impute_bsmt(test)\n",
    "    \n",
    "    # impute using training set modes\n",
    "    train, test = impute_others(train, test)\n",
    "    return(train, test)"
   ]
  },
  {
   "cell_type": "markdown",
   "metadata": {},
   "source": [
    "### Preprocess DataSet"
   ]
  },
  {
   "cell_type": "code",
   "execution_count": 13,
   "metadata": {
    "code_folding": []
   },
   "outputs": [],
   "source": [
    "def preprocess(PATH, frac, outliers):\n",
    "    # Get DataFrame\n",
    "    train, test = drop_data(PATH, frac=frac, outliers=outliers)\n",
    "    salePrice = train['SalePrice']\n",
    "    df_full = pd.concat([train.drop('SalePrice', axis=1), test], axis=0)\n",
    "\n",
    "    # Get Missing\n",
    "    df_train, df_test = impute_df(train, test)\n",
    "    return(df_train, df_test)"
   ]
  },
  {
   "cell_type": "code",
   "execution_count": 14,
   "metadata": {},
   "outputs": [],
   "source": [
    "# Build DataFrames\n",
    "PATH = 'Data/Raw/'\n",
    "\n",
    "train, test = preprocess(PATH, frac=0.1, outliers=True)\n",
    "train_outliers, test_outliers = preprocess(PATH, frac=0.1, outliers=False)"
   ]
  },
  {
   "cell_type": "code",
   "execution_count": 15,
   "metadata": {},
   "outputs": [],
   "source": [
    "# Save to CSV\n",
    "train_outliers.to_csv('Data/Inputs/train_outliers.csv', index=False)\n",
    "test_outliers.to_csv('Data/Inputs/test_outliers.csv', index=False)"
   ]
  }
 ],
 "metadata": {
  "kernelspec": {
   "display_name": "Python 3",
   "language": "python",
   "name": "python3"
  },
  "language_info": {
   "codemirror_mode": {
    "name": "ipython",
    "version": 3
   },
   "file_extension": ".py",
   "mimetype": "text/x-python",
   "name": "python",
   "nbconvert_exporter": "python",
   "pygments_lexer": "ipython3",
   "version": "3.7.3"
  }
 },
 "nbformat": 4,
 "nbformat_minor": 2
}
