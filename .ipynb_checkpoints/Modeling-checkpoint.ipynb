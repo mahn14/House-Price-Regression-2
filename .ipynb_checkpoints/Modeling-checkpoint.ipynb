{
 "cells": [
  {
   "cell_type": "code",
   "execution_count": 5,
   "metadata": {},
   "outputs": [],
   "source": [
    "import preprocessing as PRE\n",
    "import feature_engineering as FE\n",
    "import load_data as LD\n",
    "\n",
    "import numpy as np\n",
    "import pandas as pd\n",
    "\n",
    "from sklearn.ensemble import RandomForestRegressor\n",
    "from sklearn.model_selection import GridSearchCV as GSCV"
   ]
  },
  {
   "cell_type": "code",
   "execution_count": 6,
   "metadata": {},
   "outputs": [],
   "source": [
    "def rmse(a, b):\n",
    "    \n",
    "    a = np.array(a)\n",
    "    b = np.array(b)\n",
    "    \n",
    "    error = b - a \n",
    "    square = (b - a) ** 2\n",
    "    mean = np.mean(square)\n",
    "    root = np.sqrt(mean)\n",
    "    \n",
    "    return(root)"
   ]
  },
  {
   "cell_type": "code",
   "execution_count": 7,
   "metadata": {},
   "outputs": [],
   "source": [
    "def get_best_params(model, params, X_train, y_train, cv=5):\n",
    "    clf = GSCV(model, params, cv=cv)\n",
    "    clf.fit(X_train, y_train)\n",
    "    \n",
    "    best_params = clf.best_params_\n",
    "    results = clf.cv_results_.items()\n",
    "     \n",
    "    return(best_params, results)"
   ]
  },
  {
   "cell_type": "code",
   "execution_count": 10,
   "metadata": {},
   "outputs": [],
   "source": [
    "def build_model():\n",
    "    # Param Set\n",
    "    load_false_frac1 = {'outliers':False, 'frac':0.1}\n",
    "    load_false_frac2 = {'outliers':False, 'frac':0.2}\n",
    "    load_true_frac1 = {'outliers':True, 'frac':0.1}\n",
    "    load_true_frac2 = {'outliers':True, 'frac':0.2}\n",
    "    load_params = [load_false_frac1, load_false_frac2, load_true_frac1, load_true_frac2]\n",
    "\n",
    "    # Random Forest\n",
    "    model_rf = RandomForestRegressor(random_state=0, n_jobs=-1)\n",
    "    model_rf_params = {'max_depth':[1, 2, 3, 4], 'random_state':[0], 'n_estimators':[50, 100, 200, 500]}\n",
    "    \n",
    "    # Train on each set\n",
    "    for load in load_params:\n",
    "\n",
    "        # Load Data and Model\n",
    "        X_train, y_train, X_test, y_test = LD.load_data(**load)\\\n",
    "\n",
    "        # Build Model using CV\n",
    "        best_params, results = get_best_params(model_rf, model_rf_params, X_train, y_train, cv=4)\n",
    "        best_params['n_jobs'] = -1\n",
    "        model = RandomForestRegressor(**best_params)\n",
    "        model.fit(X_train, y_train)\n",
    "        \n",
    "        # Predict\n",
    "        y_pred = model.predict(X_test)\n",
    "        val = rmse(y_pred, y_test)\n",
    "        \n",
    "        print(val, '\\n', best_params, '\\n', load)\n",
    "        print(' ')\n",
    "        \n",
    "    return(model)"
   ]
  },
  {
   "cell_type": "code",
   "execution_count": 11,
   "metadata": {},
   "outputs": [
    {
     "name": "stdout",
     "output_type": "stream",
     "text": [
      "0.17044053274514528 \n",
      " {'max_depth': 4, 'n_estimators': 500, 'random_state': 0, 'n_jobs': -1} \n",
      " {'outliers': False, 'frac': 0.1}\n",
      " \n",
      "0.1755840638250589 \n",
      " {'max_depth': 4, 'n_estimators': 500, 'random_state': 0, 'n_jobs': -1} \n",
      " {'outliers': False, 'frac': 0.2}\n",
      " \n",
      "0.1715776132343561 \n",
      " {'max_depth': 4, 'n_estimators': 500, 'random_state': 0, 'n_jobs': -1} \n",
      " {'outliers': True, 'frac': 0.1}\n",
      " \n",
      "0.16888468332997902 \n",
      " {'max_depth': 4, 'n_estimators': 50, 'random_state': 0, 'n_jobs': -1} \n",
      " {'outliers': True, 'frac': 0.2}\n",
      " \n"
     ]
    }
   ],
   "source": [
    "rf = build_model()"
   ]
  },
  {
   "cell_type": "code",
   "execution_count": null,
   "metadata": {},
   "outputs": [],
   "source": []
  }
 ],
 "metadata": {
  "kernelspec": {
   "display_name": "Python 3",
   "language": "python",
   "name": "python3"
  },
  "language_info": {
   "codemirror_mode": {
    "name": "ipython",
    "version": 3
   },
   "file_extension": ".py",
   "mimetype": "text/x-python",
   "name": "python",
   "nbconvert_exporter": "python",
   "pygments_lexer": "ipython3",
   "version": "3.7.3"
  }
 },
 "nbformat": 4,
 "nbformat_minor": 2
}
