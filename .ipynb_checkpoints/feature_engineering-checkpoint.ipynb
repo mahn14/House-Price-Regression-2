{
 "cells": [
  {
   "cell_type": "code",
   "execution_count": 1,
   "metadata": {},
   "outputs": [],
   "source": [
    "import preprocessing as PRE\n",
    "import pandas as pd\n",
    "import numpy as np\n",
    "from sklearn.preprocessing import LabelEncoder\n",
    "\n",
    "import scipy.stats as stats\n",
    "from scipy.special import boxcox1p\n",
    "\n",
    "import warnings\n",
    "warnings.filterwarnings('ignore')"
   ]
  },
  {
   "cell_type": "markdown",
   "metadata": {},
   "source": [
    "### Encode and Split"
   ]
  },
  {
   "cell_type": "code",
   "execution_count": 35,
   "metadata": {},
   "outputs": [],
   "source": [
    "def encode(df):\n",
    "    df = df.copy()\n",
    "    \n",
    "    # Numerical to String\n",
    "    col_to_str = ['MSSubClass', 'OverallQual', 'YrSold', 'MoSold']\n",
    "    \n",
    "    # Categorical to LabelEncode\n",
    "    col_to_encode = ['BsmtQual', 'BsmtCond', 'GarageQual', 'GarageCond', \n",
    "            'ExterQual', 'ExterCond','HeatingQC', 'BsmtFinType1', \n",
    "            'BsmtFinType2', 'BsmtExposure', 'GarageFinish', 'LandSlope',\n",
    "            'LotShape', 'PavedDrive', 'Street', 'CentralAir', 'MSSubClass', 'OverallCond', \n",
    "            'YrSold', 'MoSold', 'KitchenQual', 'Functional', 'OverallQual']\n",
    "    \n",
    "    # Apply\n",
    "    df[col_to_str] = df[col_to_str].applymap(str)\n",
    "    df[col_to_encode] = df[col_to_encode].apply(LabelEncoder().fit_transform)\n",
    "\n",
    "    return(df)"
   ]
  },
  {
   "cell_type": "code",
   "execution_count": 5,
   "metadata": {},
   "outputs": [],
   "source": [
    "def split_num_cat(df):\n",
    "    df = df.copy()\n",
    "    \n",
    "    # Split by object datatype\n",
    "    num_features = df.dtypes[df.dtypes != \"object\"].index\n",
    "    cat_features = df.dtypes[df.dtypes == \"object\"].index\n",
    "    \n",
    "    df_num = df[num_features]\n",
    "    df_cat = df[cat_features]\n",
    "    \n",
    "    return(df_num, df_cat)"
   ]
  },
  {
   "cell_type": "markdown",
   "metadata": {},
   "source": [
    "### Numerical Features"
   ]
  },
  {
   "cell_type": "code",
   "execution_count": 56,
   "metadata": {},
   "outputs": [],
   "source": [
    "def get_boxcox(df, threshold=0.75, l=0.15):\n",
    "    df = df.copy()\n",
    "    \n",
    "    # Check Skew\n",
    "    skewness = df.apply(lambda x: stats.skew(x.dropna())).sort_values(ascending=False)\n",
    "    skewness = skewness[abs(skewness) > threshold]\n",
    "\n",
    "    skewed_features = skewness.index\n",
    "    l = l\n",
    "    for f in skewed_features:\n",
    "        df[f] = boxcox1p(df[f], l)\n",
    "        \n",
    "    return(df)"
   ]
  },
  {
   "cell_type": "markdown",
   "metadata": {},
   "source": [
    "### Categorical Data"
   ]
  },
  {
   "cell_type": "code",
   "execution_count": 57,
   "metadata": {},
   "outputs": [],
   "source": [
    "def get_dummies(df):\n",
    "    df = df.copy()\n",
    "    df = pd.get_dummies(df)\n",
    "    return(df)"
   ]
  },
  {
   "cell_type": "markdown",
   "metadata": {},
   "source": [
    "### SalePrice"
   ]
  },
  {
   "cell_type": "code",
   "execution_count": null,
   "metadata": {},
   "outputs": [],
   "source": [
    "def get_log_salePrice"
   ]
  },
  {
   "cell_type": "code",
   "execution_count": 1,
   "metadata": {},
   "outputs": [],
   "source": [
    "def feature_engineer(df, boxcox=True, threshold=0.75, l=0.15):\n",
    "    df = df.copy()\n",
    "    \n",
    "    df_encoded = encode(df)\n",
    "    df_num, df_cat = split_num_cat(df_encoded)\n",
    "    if boxcox:\n",
    "        df_num = get_boxcox(df_num, threshold=threshold, l=l)\n",
    "    df_cat = get_dummies(df_cat)\n",
    "    \n",
    "    \n",
    "    df_full = pd.concat([df_num, df_cat], axis=1)\n",
    "    \n",
    "    return(df_full)"
   ]
  },
  {
   "cell_type": "code",
   "execution_count": null,
   "metadata": {},
   "outputs": [],
   "source": []
  },
  {
   "cell_type": "code",
   "execution_count": null,
   "metadata": {},
   "outputs": [],
   "source": []
  },
  {
   "cell_type": "code",
   "execution_count": 63,
   "metadata": {},
   "outputs": [],
   "source": [
    "df_pre = PRE.preprocess(filepath='Data/RAw/', frac=0.2, outliers=False)\n",
    "df_boxcox = label_data(df_pre)\n",
    "df_skew = label_data(df_pre, boxcox=False)"
   ]
  },
  {
   "cell_type": "code",
   "execution_count": 86,
   "metadata": {},
   "outputs": [],
   "source": [
    "from sklearn.ensemble import RandomForestRegressor\n",
    "ntrain, ntest = PRE.get_lengths('Data/Raw/')\n",
    "\n",
    "y = PRE.get_SalePrice('Data/Raw/')\n",
    "\n",
    "X1 = df_boxcox.iloc[:ntrain,:]\n",
    "test1 = df_boxcox.iloc[ntrain:,]\n",
    "\n",
    "X2 = df_boxcox.iloc[:ntrain,:]\n",
    "test2 = df_boxcox.iloc[ntrain:,]"
   ]
  },
  {
   "cell_type": "code",
   "execution_count": 87,
   "metadata": {},
   "outputs": [],
   "source": [
    "rf = RandomForestRegressor(max_depth=2, random_state=0, n_estimators=100)\n",
    "rf_ = RandomForestRegressor(max_depth=2, random_state=0, n_estimators=100)"
   ]
  },
  {
   "cell_type": "code",
   "execution_count": 88,
   "metadata": {},
   "outputs": [
    {
     "data": {
      "text/plain": [
       "RandomForestRegressor(bootstrap=True, criterion='mse', max_depth=2,\n",
       "           max_features='auto', max_leaf_nodes=None,\n",
       "           min_impurity_decrease=0.0, min_impurity_split=None,\n",
       "           min_samples_leaf=1, min_samples_split=2,\n",
       "           min_weight_fraction_leaf=0.0, n_estimators=100, n_jobs=None,\n",
       "           oob_score=False, random_state=0, verbose=0, warm_start=False)"
      ]
     },
     "execution_count": 88,
     "metadata": {},
     "output_type": "execute_result"
    }
   ],
   "source": [
    "rf.fit(X1, y)\n",
    "rf_.fit(X2, y)"
   ]
  },
  {
   "cell_type": "code",
   "execution_count": 89,
   "metadata": {},
   "outputs": [
    {
     "data": {
      "text/plain": [
       "array([137027.74288987, 137429.55294609, 154077.24296625, ...,\n",
       "       137429.55294609, 137027.74288987, 245950.77219986])"
      ]
     },
     "execution_count": 89,
     "metadata": {},
     "output_type": "execute_result"
    }
   ],
   "source": [
    "rf.predict(test1)"
   ]
  },
  {
   "cell_type": "code",
   "execution_count": 90,
   "metadata": {},
   "outputs": [
    {
     "data": {
      "text/plain": [
       "array([137027.74288987, 137429.55294609, 154077.24296625, ...,\n",
       "       137429.55294609, 137027.74288987, 245950.77219986])"
      ]
     },
     "execution_count": 90,
     "metadata": {},
     "output_type": "execute_result"
    }
   ],
   "source": [
    "rf.predict(test2)"
   ]
  },
  {
   "cell_type": "code",
   "execution_count": null,
   "metadata": {},
   "outputs": [],
   "source": []
  }
 ],
 "metadata": {
  "kernelspec": {
   "display_name": "Python 3",
   "language": "python",
   "name": "python3"
  },
  "language_info": {
   "codemirror_mode": {
    "name": "ipython",
    "version": 3
   },
   "file_extension": ".py",
   "mimetype": "text/x-python",
   "name": "python",
   "nbconvert_exporter": "python",
   "pygments_lexer": "ipython3",
   "version": "3.7.3"
  }
 },
 "nbformat": 4,
 "nbformat_minor": 2
}
